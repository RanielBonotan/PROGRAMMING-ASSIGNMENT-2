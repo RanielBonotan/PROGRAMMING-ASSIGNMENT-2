{
 "cells": [
  {
   "cell_type": "markdown",
   "id": "e30906a1-2ac8-43ef-9e3c-da97fa5b980c",
   "metadata": {},
   "source": [
    "# P ASSIGMENT 2"
   ]
  },
  {
   "cell_type": "markdown",
   "id": "fc6ce3f0-d2c2-4e3b-9a21-ef0024a89c4a",
   "metadata": {},
   "source": [
    "## Normalization Problem"
   ]
  },
  {
   "cell_type": "code",
   "execution_count": 1,
   "id": "6a557310-8795-451d-8089-765f5ad4f36d",
   "metadata": {},
   "outputs": [],
   "source": [
    "import numpy as np"
   ]
  },
  {
   "cell_type": "code",
   "execution_count": 2,
   "id": "266b9a33-de6e-468b-bcdb-e54a96ede932",
   "metadata": {},
   "outputs": [
    {
     "name": "stdout",
     "output_type": "stream",
     "text": [
      "Original array: \n",
      "[[0.62258683 0.07785994 0.34469463 0.74861046 0.92254345]\n",
      " [0.41976873 0.44031221 0.01014255 0.99958244 0.46738464]\n",
      " [0.7350112  0.35333766 0.58121538 0.70185447 0.75089785]\n",
      " [0.05349887 0.05649226 0.50249404 0.76007761 0.89512677]\n",
      " [0.26211528 0.91548422 0.42235994 0.04858943 0.45287484]]\n"
     ]
    }
   ],
   "source": [
    "X = np.random.rand(5, 5)\n",
    "print(\"Original array: \")\n",
    "print(X) #create a randomized array"
   ]
  },
  {
   "cell_type": "code",
   "execution_count": 3,
   "id": "b15472e0-bc29-4406-ab60-d096f08df958",
   "metadata": {},
   "outputs": [],
   "source": [
    "mean_val = np.mean(X) #to calculate the mean of the values in the array"
   ]
  },
  {
   "cell_type": "code",
   "execution_count": 4,
   "id": "f5fe6902-c5bf-4955-a840-92ba879bac0a",
   "metadata": {},
   "outputs": [],
   "source": [
    "std_val = np.std(X) #to calculate the standard deviation of the values in the array"
   ]
  },
  {
   "cell_type": "code",
   "execution_count": 5,
   "id": "5fba7350-b4d3-4ce7-a996-47a29c66f5d9",
   "metadata": {},
   "outputs": [],
   "source": [
    "X_normalized = (X - mean_val) / std_val #calculate the earlier values to normal"
   ]
  },
  {
   "cell_type": "code",
   "execution_count": 6,
   "id": "a00e05a1-f01e-4fb7-a381-81f683b4f451",
   "metadata": {},
   "outputs": [],
   "source": [
    "np.save('X_normalized.npy', X_normalized)"
   ]
  },
  {
   "cell_type": "code",
   "execution_count": 7,
   "id": "6e455d66-deec-457e-b175-f47434d20287",
   "metadata": {},
   "outputs": [
    {
     "name": "stdout",
     "output_type": "stream",
     "text": [
      "Normalized array:\n",
      "[[ 0.40659944 -1.42703973 -0.52883085  0.83081544  1.41630213]\n",
      " [-0.27611924 -0.20696653 -1.65498746  1.67562789 -0.11583634]\n",
      " [ 0.78503812 -0.499737    0.26733641  0.67342721  0.83851517]\n",
      " [-1.50904306 -1.49896681  0.0023476   0.86941572  1.32401313]\n",
      " [-0.80680634  1.39253962 -0.26739679 -1.52556904 -0.16467869]]\n"
     ]
    }
   ],
   "source": [
    "print(\"Normalized array:\")\n",
    "print(X_normalized)"
   ]
  },
  {
   "cell_type": "code",
   "execution_count": null,
   "id": "d7298027-e88a-4cf8-ac11-2156a82c281e",
   "metadata": {},
   "outputs": [],
   "source": []
  },
  {
   "cell_type": "markdown",
   "id": "bdb42963-5d15-4402-8e87-96f132a5c45c",
   "metadata": {},
   "source": [
    "## DIVISIBLE BY 3 PROBLEM"
   ]
  },
  {
   "cell_type": "code",
   "execution_count": 14,
   "id": "51bfd16e-0b74-4339-a25c-ea7fab3e3ef9",
   "metadata": {},
   "outputs": [
    {
     "data": {
      "text/plain": [
       "array([  1,   2,   3,   4,   5,   6,   7,   8,   9,  10,  11,  12,  13,\n",
       "        14,  15,  16,  17,  18,  19,  20,  21,  22,  23,  24,  25,  26,\n",
       "        27,  28,  29,  30,  31,  32,  33,  34,  35,  36,  37,  38,  39,\n",
       "        40,  41,  42,  43,  44,  45,  46,  47,  48,  49,  50,  51,  52,\n",
       "        53,  54,  55,  56,  57,  58,  59,  60,  61,  62,  63,  64,  65,\n",
       "        66,  67,  68,  69,  70,  71,  72,  73,  74,  75,  76,  77,  78,\n",
       "        79,  80,  81,  82,  83,  84,  85,  86,  87,  88,  89,  90,  91,\n",
       "        92,  93,  94,  95,  96,  97,  98,  99, 100])"
      ]
     },
     "execution_count": 14,
     "metadata": {},
     "output_type": "execute_result"
    }
   ],
   "source": [
    "numbers = np.arange(1, 101) #makes an array of 1-100 \n",
    "numbers"
   ]
  },
  {
   "cell_type": "code",
   "execution_count": 9,
   "id": "d4b579f6-b298-4f36-8300-d6f601d92175",
   "metadata": {},
   "outputs": [],
   "source": [
    "squares = numbers ** 2 #to square the values in the array"
   ]
  },
  {
   "cell_type": "code",
   "execution_count": 10,
   "id": "492c1b06-85a8-46ce-ad8f-b4887f770425",
   "metadata": {},
   "outputs": [],
   "source": [
    "A = squares.reshape(10, 10) #reshape the current array into a 10x10 matrix format"
   ]
  },
  {
   "cell_type": "code",
   "execution_count": 11,
   "id": "70885421-05d6-4492-95e0-5b6d79239d47",
   "metadata": {},
   "outputs": [],
   "source": [
    "div_by_3 = A[A % 3 == 0] #determine the values divisible by 3 using boolean indexing"
   ]
  },
  {
   "cell_type": "code",
   "execution_count": 12,
   "id": "47640c23-ba46-4865-a721-594f29a3da99",
   "metadata": {},
   "outputs": [],
   "source": [
    "np.save('div_by_3.npy', div_by_3)"
   ]
  },
  {
   "cell_type": "code",
   "execution_count": 15,
   "id": "2440ef84-a98f-4e90-bde3-895f9b9d059f",
   "metadata": {},
   "outputs": [
    {
     "name": "stdout",
     "output_type": "stream",
     "text": [
      "\n",
      "Elements divisible by 3:\n",
      "[   9   36   81  144  225  324  441  576  729  900 1089 1296 1521 1764\n",
      " 2025 2304 2601 2916 3249 3600 3969 4356 4761 5184 5625 6084 6561 7056\n",
      " 7569 8100 8649 9216 9801]\n"
     ]
    }
   ],
   "source": [
    "print(\"\\nElements divisible by 3:\")\n",
    "print(div_by_3)"
   ]
  },
  {
   "cell_type": "code",
   "execution_count": null,
   "id": "a8b9d271-203d-4cd5-8a3d-92441f347020",
   "metadata": {},
   "outputs": [],
   "source": []
  }
 ],
 "metadata": {
  "kernelspec": {
   "display_name": "Python [conda env:base] *",
   "language": "python",
   "name": "conda-base-py"
  },
  "language_info": {
   "codemirror_mode": {
    "name": "ipython",
    "version": 3
   },
   "file_extension": ".py",
   "mimetype": "text/x-python",
   "name": "python",
   "nbconvert_exporter": "python",
   "pygments_lexer": "ipython3",
   "version": "3.13.5"
  }
 },
 "nbformat": 4,
 "nbformat_minor": 5
}
